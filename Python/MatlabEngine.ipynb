{
 "cells": [
  {
   "cell_type": "code",
   "execution_count": 10,
   "metadata": {},
   "outputs": [
    {
     "name": "stdout",
     "output_type": "stream",
     "text": [
      "[[0.03720203549106606],[0.2673913738331489],[0.6954065906757851]]\n"
     ]
    }
   ],
   "source": [
    "import matlab.engine\n",
    "engine = matlab.engine.start_matlab()\n",
    "engine.init(nargout=0)\n",
    "#engine.mk_reminders(nargout=0)\n",
    "#dbn = engine.mk_reminders()\n",
    "prNR = engine.simulation()\n",
    "print(prNR)"
   ]
  },
  {
   "cell_type": "code",
   "execution_count": null,
   "metadata": {},
   "outputs": [],
   "source": []
  }
 ],
 "metadata": {
  "interpreter": {
   "hash": "3906484d7433519b180af2d9ca6a14f0d131f0da74e6a6365888e288da336866"
  },
  "kernelspec": {
   "display_name": "Python 3.8.5 64-bit ('base': conda)",
   "language": "python",
   "name": "python3"
  },
  "language_info": {
   "codemirror_mode": {
    "name": "ipython",
    "version": 3
   },
   "file_extension": ".py",
   "mimetype": "text/x-python",
   "name": "python",
   "nbconvert_exporter": "python",
   "pygments_lexer": "ipython3",
   "version": "3.8.5"
  },
  "orig_nbformat": 4
 },
 "nbformat": 4,
 "nbformat_minor": 2
}
